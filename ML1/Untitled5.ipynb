{
  "cells": [
    {
      "cell_type": "markdown",
      "metadata": {
        "id": "view-in-github",
        "colab_type": "text"
      },
      "source": [
        "<a href=\"https://colab.research.google.com/github/Srijan2024/ML1/blob/main/ML1/Untitled5.ipynb\" target=\"_parent\"><img src=\"https://colab.research.google.com/assets/colab-badge.svg\" alt=\"Open In Colab\"/></a>"
      ]
    },
    {
      "cell_type": "code",
      "source": [
        "Jiifrom sklearn import datasets,linear_model \n",
        "iris=datasets.load_iris()\n",
        "X=iris.data[:,:2]\n",
        "y=iris.target\n",
        "from sklearn.model_selection import train_test_split\n",
        "from sklearn.linear_model import LogisticRegression\n",
        "X_train,X_test,y_train,y_test=train_test_split(X,y,test_size= 0.25,random_state=1)\n",
        "clf=LogisticRegression(random_state=1)\n",
        "clf.fit(X_train,y_train)\n",
        "y_pred=clf.predict(X_test)\n",
        "from sklearn.metrics import accuracy_score\n",
        "accuracy_score(y_test,y_pred)"
      ],
      "metadata": {
        "colab": {
          "base_uri": "https://localhost:8080/"
        },
        "id": "vGsgwFckEypU",
        "outputId": "c0519904-765d-4b36-feac-ddb087e66265"
      },
      "execution_count": null,
      "outputs": [
        {
          "output_type": "execute_result",
          "data": {
            "text/plain": [
              "0.7894736842105263"
            ]
          },
          "metadata": {},
          "execution_count": 6
        }
      ]
    },
    {
      "cell_type": "code",
      "execution_count": null,
      "metadata": {
        "colab": {
          "base_uri": "https://localhost:8080/",
          "height": 317
        },
        "id": "870CBv-4SwiI",
        "outputId": "c1f61295-bf33-48a5-8dd4-0428ef8f8658"
      },
      "outputs": [
        {
          "name": "stdout",
          "output_type": "stream",
          "text": [
            "MEAN SQUARED ERROR: 3035.0601152912686\n",
            "Weights: [941.43097333]\n",
            "Intercept: 153.39713623331698\n"
          ]
        },
        {
          "data": {
            "image/png": "[encoded data removed]",
            "text/plain": [
              "<Figure size 432x288 with 1 Axes>"
            ]
          },
          "metadata": {},
          "output_type": "display_data"
        }
      ],
      "source": [
        "import matplotlib.pyplot as plt\n",
        "import numpy as np \n",
        "from sklearn import datasets, linear_model\n",
        "from sklearn.metrics import mean_squared_error\n",
        "diabetes= datasets.load_diabetes()\n",
        "#print(diabetes.keys())\n",
        "#print(diabetes.DESCR)\n",
        "#print(diabetes.data)\n",
        "#diabetes_X=diabetes.data[np.newaxis,2:]\n",
        "diabetes_X=diabetes.data[:,np.newaxis,2]\n",
        "#print(diabetes_X)\n",
        "\n",
        "diabetes_X_train=diabetes_X[:-30]\n",
        "diabetes_X_test=diabetes_X[-30:]\n",
        "diabetes_y_train=diabetes.target[:-30]\n",
        "diabetes_y_test=diabetes.target[-30:]\n",
        "\n",
        "model=linear_model.LinearRegression()\n",
        "model.fit(diabetes_X_train,diabetes_y_train)\n",
        "diabetes_y_predicted=model.predict(diabetes_X_test)\n",
        "print(\"MEAN SQUARED ERROR:\",mean_squared_error(diabetes_y_test,diabetes_y_predicted))\n",
        "print(\"Weights:\",model.coef_)\n",
        "print(\"Intercept:\",model.intercept_)\n",
        "plt.scatter(diabetes_X_test,diabetes_y_test)\n",
        "plt.show()"
      ]
    },
    {
      "cell_type": "code",
      "execution_count": null,
      "metadata": {
        "id": "PH3v2lkmQBwL"
      },
      "outputs": [],
      "source": [
        "from sklearn import datasets\n",
        "iris=datasets.load_iris()\n",
        "X=iris.data[:,:2]\n",
        "y=iris.target\n"
      ]
    },
    {
      "cell_type": "code",
      "execution_count": null,
      "metadata": {
        "id": "M30Qz_AmQHWL",
        "colab": {
          "base_uri": "https://localhost:8080/"
        },
        "outputId": "d760c39e-b179-4fe1-8eb7-8f8476b6229e"
      },
      "outputs": [
        {
          "output_type": "execute_result",
          "data": {
            "text/plain": [
              "0.7631578947368421"
            ]
          },
          "metadata": {},
          "execution_count": 15
        }
      ],
      "source": [
        "from sklearn.model_selection import train_test_split\n",
        "from sklearn.svm import SVC\n",
        "X_train,X_test,y_train,y_test=train_test_split(X,y,test_size=0.25,random_state=1)\n",
        "clf=SVC(kernel='linear',random_state=1)\n",
        "clf.fit(X_train,y_train)\n",
        "y_pred=clf.predict(X_test)\n",
        "from sklearn.metrics import accuracy_score\n",
        "accuracy_score(y_test,y_pred)"
      ]
    },
    {
      "cell_type": "code",
      "execution_count": null,
      "metadata": {
        "colab": {
          "base_uri": "https://localhost:8080/"
        },
        "id": "EvTYy0pIQ6-B",
        "outputId": "68230623-54ab-4884-8bcb-da78b15b20ab"
      },
      "outputs": [
        {
          "output_type": "execute_result",
          "data": {
            "text/plain": [
              "0.7631578947368421"
            ]
          },
          "metadata": {},
          "execution_count": 17
        }
      ],
      "source": [
        "from sklearn import datasets\n",
        "iris=datasets.load_iris()\n",
        "X=iris.data[:,:2]\n",
        "y=iris.target\n",
        "#print(X)\n",
        "#z=iris.data[:,:2]\n",
        "#print(z)\n",
        "from sklearn.model_selection import train_test_split\n",
        "from sklearn.svm import SVC \n",
        "X_train,X_test,y_train,y_test= train_test_split(X,y,test_size=0.25,random_state=1)\n",
        "clf=SVC(kernel='linear',random_state=1)\n",
        "clf.fit(X_train,y_train)\n",
        "y_pred=clf.predict(X_test)\n",
        "from sklearn.metrics import accuracy_score\n",
        "accuracy_score(y_test,y_pred)\n"
      ]
    },
    {
      "cell_type": "code",
      "execution_count": null,
      "metadata": {
        "id": "Gd_dxLanQ9K4"
      },
      "outputs": [],
      "source": [
        "from sklearn.model_selection import train_test_split\n",
        "from sklearn.svm import SVC \n",
        "X_train,y_train,X_test,y_test= train_test_split(X,y,test_size=0.25,random_state=1)"
      ]
    },
    {
      "cell_type": "code",
      "execution_count": null,
      "metadata": {
        "id": "nLoX9pEoJKVo"
      },
      "outputs": [],
      "source": [
        "clf=SVC(kernel='linear',random_state=1)\n",
        "clf.fit(X_train,y_train)\n"
      ]
    },
    {
      "cell_type": "code",
      "execution_count": null,
      "metadata": {
        "colab": {
          "base_uri": "https://localhost:8080/"
        },
        "id": "oUrm7qHJLfRw",
        "outputId": "7d04d873-310c-46cc-9fa2-16a6b338ad5b"
      },
      "outputs": [
        {
          "output_type": "execute_result",
          "data": {
            "text/plain": [
              "0.7631578947368421"
            ]
          },
          "metadata": {},
          "execution_count": 18
        }
      ],
      "source": [
        "y_pred=clf.predict(X_test)\n",
        "from sklearn.metrics import accuracy_score\n",
        "accuracy_score(y_test,y_pred)"
      ]
    },
    {
      "cell_type": "code",
      "source": [
        "from sklearn import datasets\n",
        "iris=datasets.load_iris()\n",
        "X=iris.data[:,:2]\n",
        "y= iris.target\n",
        "from sklearn.model_selection import train_test_split\n",
        "from sklearn.svm import SVC\n",
        "from sklearn.linear_model import LogisticRegression\n",
        "X_train,X_test,y_train,y_test= train_test_split(X,y,test_size=0.25,random_state=1)\n",
        "X_train2,X_test2,y_train2,y_test2= train_test_split(X_train,y_train,test_size=0.25,random_state=1)\n",
        "svc_clf=SVC(kernel='linear',random_state=1)\n",
        "svc_clf.fit(X_train2,y_train2)\n",
        "lr_clf= LogisticRegression(random_state=1)\n",
        "lr_clf.fit(X_train2,y_train2)\n",
        "svc_y_pred=svc_clf.predict(X_test2)\n",
        "lr_y_pred=lr_clf.predict(X_test2)\n",
        "from sklearn.metrics import accuracy_score\n",
        "print(accuracy_score(y_test2,svc_y_pred))\n",
        "print(accuracy_score(y_test2,lr_y_pred))\n"
      ],
      "metadata": {
        "colab": {
          "base_uri": "https://localhost:8080/"
        },
        "id": "J8d6676WMjUz",
        "outputId": "061776bb-fb13-4d16-eeec-04909196a720"
      },
      "execution_count": null,
      "outputs": [
        {
          "output_type": "stream",
          "name": "stdout",
          "text": [
            "0.8571428571428571\n",
            "0.8571428571428571\n"
          ]
        }
      ]
    },
    {
      "cell_type": "code",
      "source": [
        "from sklearn import datasets\n",
        "iris=datasets.load_iris()\n",
        "X=iris.data[:,:2]\n",
        "y=iris.target\n",
        "#print(X)\n",
        "#z=iris.data[:,:2]\n",
        "#print(z)\n",
        "from sklearn.model_selection import train_test_split\n",
        "from sklearn.model_selection import cross_val_score\n",
        "from sklearn.svm import SVC \n",
        "from sklearn.linear_model import LogisticRegression\n",
        "\n",
        "\n",
        "X_train,X_test,y_train,y_test= train_test_split(X,y,test_size=0.25,random_state=1)\n",
        "svc_clf=SVC(kernel='linear',random_state=1).fit(X_train,y_train)\n",
        "y_pred_svc=svc_clf.predict(X_test)\n",
        "\n",
        "lr_clf=LogisticRegression(random_state=1).fit(X_train,y_train)\n",
        "y_pred_lr=lr_clf.predict(X_test)\n",
        "\n",
        "\n",
        "from sklearn.metrics import accuracy_score\n",
        "\n",
        "print(accuracy_score(y_test,y_pred_lr))\n",
        "print(accuracy_score(y_test,y_pred_svc))\n",
        "\n",
        "scores_svc=cross_val_score(svc_clf,X_train,y_train,cv=4)\n",
        "print(scores_svc)\n",
        "print(\"Average svc scores:\",scores_svc.mean())\n",
        "print(\"standard deviation:\",scores_svc.std())\n",
        "\n",
        "scores_lr=cross_val_score(lr_clf,X_train,y_train,cv=4)\n",
        "print(scores_lr)\n",
        "\n",
        "print(\"LR mean:\",scores_lr.mean())\n",
        "print(\"LR standard deviation:\",scores_lr.std())"
      ],
      "metadata": {
        "colab": {
          "base_uri": "https://localhost:8080/"
        },
        "id": "B9ZOdahsk0WY",
        "outputId": "d683dd54-91f7-42f0-c9d6-5416bde29149"
      },
      "execution_count": null,
      "outputs": [
        {
          "output_type": "stream",
          "name": "stdout",
          "text": [
            "0.7894736842105263\n",
            "0.7631578947368421\n",
            "[0.78571429 0.92857143 0.82142857 0.78571429]\n",
            "Average svc scores: 0.8303571428571428\n",
            "standard deviation: 0.058548558252696455\n",
            "[0.78571429 0.92857143 0.82142857 0.75      ]\n",
            "LR mean: 0.8214285714285714\n",
            "LR standard deviation: 0.06681531047810611\n"
          ]
        }
      ]
    },
    {
      "cell_type": "code",
      "source": [
        "from sklearn import datasets\n",
        "import matplotlib.pyplot as plt\n",
        "%matplotlib inline\n",
        "import numpy as np\n",
        "\n",
        "iris=datasets.load_iris()\n",
        "X=iris.data\n",
        "y=iris.target\n",
        "plt.plot(np.arange(10),np.arange(10))"
      ],
      "metadata": {
        "colab": {
          "base_uri": "https://localhost:8080/",
          "height": 240
        },
        "id": "J5k76zHPk0iv",
        "outputId": "ec22bf2f-d4ac-4e4f-fcb7-f5b0eb60710e"
      },
      "execution_count": null,
      "outputs": [
        {
          "output_type": "execute_result",
          "data": {
            "text/plain": [
              "[<matplotlib.lines.Line2D at 0x7f2e34f62a50>]"
            ]
          },
          "metadata": {},
          "execution_count": 1
        },
        {
          "output_type": "display_data",
          "data": {
            "text/plain": [
              "<Figure size 432x288 with 1 Axes>"
            ],
            "image/png": "[encoded data removed]"
          },
          "metadata": {
            "needs_background": "light"
          }
        }
      ]
    },
    {
      "cell_type": "code",
      "source": [
        ""
      ],
      "metadata": {
        "id": "BNMwMvGveg51"
      },
      "execution_count": null,
      "outputs": []
    },
    {
      "cell_type": "code",
      "source": [
        "from sklearn import datasets\n",
        "import matplotlib.pyplot as plt\n",
        "%matplotlib inline\n",
        "import numpy as np\n",
        "iris=datasets.load_iris()\n",
        "X=iris.data\n",
        "y=iris.target\n",
        "plt.plot(np.arange(10),np.exp(np.arange(10)))"
      ],
      "metadata": {
        "colab": {
          "base_uri": "https://localhost:8080/",
          "height": 282
        },
        "id": "IXsX-PaWk00L",
        "outputId": "da274217-0612-4b59-d1ae-b625d118b2cd"
      },
      "execution_count": null,
      "outputs": [
        {
          "output_type": "execute_result",
          "data": {
            "text/plain": [
              "[<matplotlib.lines.Line2D at 0x7f2c49445510>]"
            ]
          },
          "metadata": {},
          "execution_count": 5
        },
        {
          "output_type": "display_data",
          "data": {
            "text/plain": [
              "<Figure size 432x288 with 1 Axes>"
            ],
            "image/png": "[encoded data removed]"
          },
          "metadata": {
            "needs_background": "light"
          }
        }
      ]
    },
    {
      "cell_type": "code",
      "source": [
        "from sklearn import datasets\n",
        "import matplotlib.pyplot as plt\n",
        "%matplotlib inline\n",
        "import numpy as np\n",
        "iris=datasets.load_iris()\n",
        "X=iris.data\n",
        "y=iris.target\n",
        "#plt.plot(np.arange(10),np.exp(np.arange(10)))\n",
        "plt.figure()\n",
        "plt.subplot(121)\n",
        "plt.plot(np.arange(10),np.exp(np.arange(10)))\n",
        "plt.subplot(122)\n",
        "#plt.plot(np.arange(10),np.exp(np.arange(10))\n",
        "plt.scatter(np.arange(10),np.exp(np.arange(10)))"
      ],
      "metadata": {
        "colab": {
          "base_uri": "https://localhost:8080/",
          "height": 282
        },
        "id": "gRQLpAnuk03A",
        "outputId": "d9da8e27-4a21-4c5a-a248-2156546ecc1d"
      },
      "execution_count": null,
      "outputs": [
        {
          "output_type": "execute_result",
          "data": {
            "text/plain": [
              "<matplotlib.collections.PathCollection at 0x7f2c493825d0>"
            ]
          },
          "metadata": {},
          "execution_count": 6
        },
        {
          "output_type": "display_data",
          "data": {
            "text/plain": [
              "<Figure size 432x288 with 2 Axes>"
            ],
            "image/png": "[encoded data removed]"
          },
          "metadata": {
            "needs_background": "light"
          }
        }
      ]
    },
    {
      "cell_type": "code",
      "source": [
        "from sklearn.neighbors import KNeighborsClassifier\n",
        "from sklearn import datasets\n",
        "from sklearn.model_selection import train_test_split\n",
        "from sklearn.model_selection import cross_val_score\n",
        "iris=datasets.load_iris()\n",
        "X=iris.data\n",
        "y=iris.target\n",
        "\n",
        "X_train,X_test,y_train,y_test=train_test_split(X,y,stratify=y,random_state=0)\n",
        "\n",
        "kn_clf3=KNeighborsClassifier(n_neighbors=3)\n",
        "kn_clf5= KNeighborsClassifier(n_neighbors=5)\n",
        "\n",
        "kn_scores3=cross_val_score(kn_clf3,X_train,y_train,cv=10)\n",
        "kn_scores5=cross_val_score(kn_clf5,X_train,y_train,cv=10)\n",
        "\n",
        "print(\"AVG(3):\",kn_scores3.mean())\n",
        "print(\"AVG(5):\",kn_scores5.mean())\n",
        "\n",
        "print(\"std(3):\",kn_scores3.std())\n",
        "print(\"std(5):\",kn_scores5.std())"
      ],
      "metadata": {
        "colab": {
          "base_uri": "https://localhost:8080/"
        },
        "id": "R2_f1F7xk07W",
        "outputId": "396646d6-8f15-4023-b46e-24fe0b8a2f2e"
      },
      "execution_count": null,
      "outputs": [
        {
          "output_type": "stream",
          "name": "stdout",
          "text": [
            "AVG(3): 0.9469696969696969\n",
            "AVG(5): 0.9469696969696969\n",
            "std(3): 0.0433873365553829\n",
            "std(5): 0.05945883900105632\n"
          ]
        }
      ]
    },
    {
      "cell_type": "code",
      "source": [
        "#polynomial \n",
        "from sklearn.svm import SVC\n",
        "from sklearn import datasets\n",
        "iris= datasets.load_iris()\n",
        "X=iris.data[:,:2]\n",
        "y=iris.target\n"
      ],
      "metadata": {
        "id": "e4Jr0oZmLHMS"
      },
      "execution_count": null,
      "outputs": []
    },
    {
      "cell_type": "code",
      "source": [
        "from sklearn.model_selection import train_test_split\n",
        "from sklearn.model_selection import cross_val_score\n",
        "X_train,X_test,y_train,y_test=train_test_split(X,y,stratify=y,random_state=0)\n",
        "svc_clf=SVC(kernel='poly',random_state=0).fit(X_train,y_train)\n",
        "svc_y_pred= svc_clf.predict(X_test)\n",
        "from sklearn.metrics import accuracy_score\n",
        "accuracy_score(y_test,svc_y_pred)\n",
        "\n"
      ],
      "metadata": {
        "colab": {
          "base_uri": "https://localhost:8080/"
        },
        "id": "Pq8VLrPyLHJ0",
        "outputId": "874f0c9f-7117-4ae0-a193-c76a8afc412e"
      },
      "execution_count": null,
      "outputs": [
        {
          "output_type": "execute_result",
          "data": {
            "text/plain": [
              "0.7368421052631579"
            ]
          },
          "metadata": {},
          "execution_count": 8
        }
      ]
    },
    {
      "cell_type": "code",
      "source": [
        "from sklearn import datasets\n",
        "iris=datasets.load_iris()\n",
        "X=iris.data\n",
        "y=iris.target\n",
        "print(iris.feature_names)\n",
        "\n",
        "from sklearn.model_selection import train_test_split\n",
        "\n",
        "X_train,X_test,y_train,y_test=train_test_split(X,y,test_size=0.25)\n"
      ],
      "metadata": {
        "colab": {
          "base_uri": "https://localhost:8080/"
        },
        "id": "mide-sNQhgu-",
        "outputId": "c63ffa23-ab97-4051-d19c-88d66bf59ec7"
      },
      "execution_count": null,
      "outputs": [
        {
          "output_type": "stream",
          "name": "stdout",
          "text": [
            "['sepal length (cm)', 'sepal width (cm)', 'petal length (cm)', 'petal width (cm)']\n"
          ]
        }
      ]
    },
    {
      "cell_type": "code",
      "source": [
        "print(X_train[0])"
      ],
      "metadata": {
        "colab": {
          "base_uri": "https://localhost:8080/"
        },
        "id": "29omGOBmjxWY",
        "outputId": "a4d22deb-45f0-473e-835a-07f0786878ad"
      },
      "execution_count": null,
      "outputs": [
        {
          "output_type": "stream",
          "name": "stdout",
          "text": [
            "[5.7 2.5 5.  2. ]\n"
          ]
        }
      ]
    },
    {
      "cell_type": "code",
      "source": [
        "print(X_test[0])"
      ],
      "metadata": {
        "colab": {
          "base_uri": "https://localhost:8080/"
        },
        "id": "yu5taPBXj4CO",
        "outputId": "a700b4db-6cb3-4253-a0f6-325c5adcdeda"
      },
      "execution_count": null,
      "outputs": [
        {
          "output_type": "stream",
          "name": "stdout",
          "text": [
            "[5.2 4.1 1.5 0.1]\n"
          ]
        }
      ]
    },
    {
      "cell_type": "code",
      "source": [
        "import matplotlib.pyplot as plt\n",
        "import numpy as np\n",
        "x=np.array([1,2,3,4,5])\n",
        "y=np.array([10,20,30,40,50])\n",
        "plt.plot(x,y)"
      ],
      "metadata": {
        "colab": {
          "base_uri": "https://localhost:8080/",
          "height": 282
        },
        "id": "TJp5zgUVlKTW",
        "outputId": "efd5d3c1-a956-474d-8a96-4acdee8fd1a5"
      },
      "execution_count": null,
      "outputs": [
        {
          "output_type": "execute_result",
          "data": {
            "text/plain": [
              "[<matplotlib.lines.Line2D at 0x7f2e2b7eabd0>]"
            ]
          },
          "metadata": {},
          "execution_count": 20
        },
        {
          "output_type": "display_data",
          "data": {
            "text/plain": [
              "<Figure size 432x288 with 1 Axes>"
            ],
            "image/png": "[encoded data removed]"
          },
          "metadata": {
            "needs_background": "light"
          }
        }
      ]
    },
    {
      "cell_type": "code",
      "source": [
        "x=np.array([10,20,30,40,50])\n",
        "y=np.array([100,400,900,1600,2500])\n",
        "plt.scatter(x,y)"
      ],
      "metadata": {
        "colab": {
          "base_uri": "https://localhost:8080/",
          "height": 282
        },
        "id": "yc_PApwLlnu0",
        "outputId": "2754e8ef-4fe8-4f06-d2c7-6e98ced68500"
      },
      "execution_count": null,
      "outputs": [
        {
          "output_type": "execute_result",
          "data": {
            "text/plain": [
              "<matplotlib.collections.PathCollection at 0x7f2e2b744750>"
            ]
          },
          "metadata": {},
          "execution_count": 21
        },
        {
          "output_type": "display_data",
          "data": {
            "text/plain": [
              "<Figure size 432x288 with 1 Axes>"
            ],
            "image/png": "[encoded data removed]"
          },
          "metadata": {
            "needs_background": "light"
          }
        }
      ]
    },
    {
      "cell_type": "code",
      "source": [
        "sl=np.reshape(X[:,:1],150)\n",
        "\n",
        "sw=np.reshape(X[:,1:2],150)\n",
        "\n",
        "pl=np.reshape(X[:,2:3],150)\n",
        "\n",
        "pw=np.reshape(X[:,3:4],150)\n"
      ],
      "metadata": {
        "id": "4SHrNSdYouga"
      },
      "execution_count": null,
      "outputs": []
    },
    {
      "cell_type": "code",
      "source": [
        ""
      ],
      "metadata": {
        "id": "NbytwZVSpvy1"
      },
      "execution_count": null,
      "outputs": []
    },
    {
      "cell_type": "code",
      "source": [
        "plt.subplot(221)\n",
        "y=iris.target\n",
        "plt.plot(sl,y)\n",
        "plt.subplot(222)\n",
        "plt.plot(sw,y)\n",
        "plt.subplot(223)\n",
        "plt.plot(pl,y)\n",
        "plt.subplot(224)\n",
        "plt.plot(pw,y)\n"
      ],
      "metadata": {
        "colab": {
          "base_uri": "https://localhost:8080/",
          "height": 282
        },
        "id": "hoPcXyMwlnWg",
        "outputId": "c0ee1e9a-a93e-42ee-f362-3d45cfcdfa61"
      },
      "execution_count": null,
      "outputs": [
        {
          "output_type": "execute_result",
          "data": {
            "text/plain": [
              "[<matplotlib.lines.Line2D at 0x7f2e2ab5d450>]"
            ]
          },
          "metadata": {},
          "execution_count": 39
        },
        {
          "output_type": "display_data",
          "data": {
            "text/plain": [
              "<Figure size 432x288 with 4 Axes>"
            ],
            "image/png": "[encoded data removed]"
          },
          "metadata": {
            "needs_background": "light"
          }
        }
      ]
    },
    {
      "cell_type": "code",
      "source": [
        "plt.plot(y,y)"
      ],
      "metadata": {
        "colab": {
          "base_uri": "https://localhost:8080/",
          "height": 282
        },
        "id": "qWCBC4PZpWaW",
        "outputId": "9089f1be-e16b-4fde-c512-3967658f7e32"
      },
      "execution_count": null,
      "outputs": [
        {
          "output_type": "execute_result",
          "data": {
            "text/plain": [
              "[<matplotlib.lines.Line2D at 0x7f2e2aafc410>]"
            ]
          },
          "metadata": {},
          "execution_count": 40
        },
        {
          "output_type": "display_data",
          "data": {
            "text/plain": [
              "<Figure size 432x288 with 1 Axes>"
            ],
            "image/png": "[encoded data removed]"
          },
          "metadata": {
            "needs_background": "light"
          }
        }
      ]
    },
    {
      "cell_type": "code",
      "source": [
        "hist(sl,bins=30)"
      ],
      "metadata": {
        "id": "1YPxj5nlrQup"
      },
      "execution_count": null,
      "outputs": []
    },
    {
      "cell_type": "code",
      "source": [
        "# import libraries\n",
        "from matplotlib import pyplot as plt\n",
        "import numpy as np\n",
        "\n",
        "\n",
        "# Creating dataset\n",
        "a = np.random.randint(100, size =(50))\n",
        "\n",
        "# Creating plot\n",
        "fig = plt.figure(figsize =(10, 7))\n",
        "\n",
        "plt.hist(a, bins = [0, 10, 20, 30,\n",
        "\t\t\t\t\t40, 50, 60, 70,\n",
        "\t\t\t\t\t80, 90, 100])\n",
        "\n",
        "plt.title(\"Numpy Histogram\")\n",
        "\n",
        "# show plot\n",
        "plt.show()\n"
      ],
      "metadata": {
        "colab": {
          "base_uri": "https://localhost:8080/",
          "height": 444
        },
        "id": "m5Jojg_SsbWc",
        "outputId": "8bd282b0-b4e1-4553-8df2-b7f144a54ebc"
      },
      "execution_count": null,
      "outputs": [
        {
          "output_type": "display_data",
          "data": {
            "text/plain": [
              "<Figure size 720x504 with 1 Axes>"
            ],
            "image/png": "[encoded data removed]"
          },
          "metadata": {
            "needs_background": "light"
          }
        }
      ]
    }
  ],
  "metadata": {
    "colab": {
      "collapsed_sections": [],
      "name": "Untitled5.ipynb",
      "provenance": [],
      "include_colab_link": true
    },
    "kernelspec": {
      "display_name": "Python 3",
      "name": "python3"
    },
    "language_info": {
      "name": "python"
    }
  },
  "nbformat": 4,
  "nbformat_minor": 0
}